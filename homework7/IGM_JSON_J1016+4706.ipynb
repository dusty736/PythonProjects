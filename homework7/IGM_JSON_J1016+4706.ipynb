{
 "cells": [
  {
   "cell_type": "code",
   "execution_count": 2,
   "metadata": {
    "collapsed": true
   },
   "outputs": [],
   "source": [
    "%matplotlib inline\n",
    "\n",
    "import numpy as np\n",
    "from matplotlib import pyplot as plt\n",
    "import pandas as pd\n",
    "from pandas.tools.plotting import table\n",
    "import json\n",
    "from IPython.display import display\n",
    "import re\n",
    "import string\n"
   ]
  },
  {
   "cell_type": "code",
   "execution_count": 3,
   "metadata": {
    "collapsed": false
   },
   "outputs": [],
   "source": [
    "#Load in file\n",
    "\n",
    "#with open('J1553+3548_IGM.json') as data_file:    \n",
    "    #data = json.load(data_file)\n",
    "    \n",
    "with open('dusty3_J1016+4706.json') as data_file:    \n",
    "    data = json.load(data_file)"
   ]
  },
  {
   "cell_type": "code",
   "execution_count": 20,
   "metadata": {
    "collapsed": false
   },
   "outputs": [],
   "source": [
    "#Read in data from file, identify systems and components\n",
    "\n",
    "systems=['z0.00000_MW']\n",
    "components=[]\n",
    "\n",
    "\n",
    "for cmp in data[\"cmps\"]:\n",
    "    cmp_dict=data[\"cmps\"][str(cmp)]\n",
    "    cmp_data=''\n",
    "    if cmp[-2:]==\"HI\":\n",
    "        systems.append(str(cmp))\n",
    "    cmp_data+=str(cmp)+';'\n",
    "    cmp_data+=str(cmp_dict[\"Reliability\"])+';'\n",
    "    if cmp_dict[\"Comment\"]=='':\n",
    "        cmp_data+='None;'\n",
    "    else:\n",
    "        cmp_data+=str(cmp_dict[\"Comment\"])+';'\n",
    "    cmp_data+=str(cmp_dict[\"Nfit\"])+';'\n",
    "    cmp_data+=str(cmp_dict[\"bfit\"])+';'\n",
    "    components.append(cmp_data)"
   ]
  },
  {
   "cell_type": "code",
   "execution_count": 21,
   "metadata": {
    "collapsed": false
   },
   "outputs": [],
   "source": [
    "def letters(input):\n",
    "    valids = []\n",
    "    for character in input:\n",
    "        if character.isalpha():\n",
    "            valids.append(character)\n",
    "    return ''.join(valids)"
   ]
  },
  {
   "cell_type": "code",
   "execution_count": 6,
   "metadata": {
    "collapsed": false
   },
   "outputs": [
    {
     "name": "stdout",
     "output_type": "stream",
     "text": [
      "['z0.00000_MW', 'z0.00361_HI', 'z0.00668_HI', 'z0.03132_HI', 'z0.03554_HI', 'z0.03604_HI', 'z0.03859_HI', 'z0.04119_HI', 'z0.04145_HI', 'z0.04432_HI', 'z0.09876_HI', 'z0.11520_HI', 'z0.14261_HI', 'z0.14751_HI', 'z0.14915_HI', 'z0.16589_HI', 'z0.17067_HI', 'z0.17487_HI', 'z0.17621_HI', 'z0.17947_HI', 'z0.18067_HI', 'z0.18138_HI', 'z0.19132_HI', 'z0.20026_HI', 'z0.21968_HI', 'z0.22011_HI', 'z0.22063_HI', 'z0.24294_HI', 'z0.25215_HI', 'z0.25281_HI', 'z0.26330_HI', 'z0.26378_HI', 'z0.26412_HI', 'z0.27319_HI', 'z0.27884_HI', 'z0.28019_HI', 'z0.29016_HI', 'z0.29058_HI', 'z0.29307_HI', 'z0.29402_HI', 'z0.32906_HI', 'z0.35225_HI', 'z0.35598_HI', 'z0.35972_HI', 'z0.36794_HI', 'z0.38571_HI', 'z0.39994_HI', 'z0.40308_HI', 'z0.40871_HI', 'z0.41027_HI', 'z0.42938_HI', 'z0.43214_HI', 'z0.46139_HI', 'z0.66463_HI', 'z0.72770_HI', 'z0.74627_HI']\n"
     ]
    }
   ],
   "source": [
    "#Sort systems by redshift\n",
    "\n",
    "def atoi(text):\n",
    "    return int(text) if text.isdigit() else text\n",
    "\n",
    "def natural_keys(text):\n",
    "    return [ atoi(c) for c in re.split('(\\d+)', text) ]\n",
    "\n",
    "\n",
    "systems.sort(key=natural_keys)\n",
    "print(systems)\n",
    "\n",
    "#for system in systems[1:]:\n",
    "    #for line in data[\"cmps\"][system][\"lines\"].keys():\n",
    "        #print line"
   ]
  },
  {
   "cell_type": "code",
   "execution_count": 22,
   "metadata": {
    "collapsed": false
   },
   "outputs": [
    {
     "name": "stdout",
     "output_type": "stream",
     "text": [
      "['HI', 'HI', 'HI', 'HI', 'HI', 'HI', 'HI', 'HI', 'HI', 'HI', 'HI', 'HI', 'HI', 'HI', 'HI', 'HI', 'HI', 'HI', 'HI', 'HI', 'HI', 'HI', 'HI', 'HI', 'HI', 'HI', 'HI', 'HI', 'HI', 'HI', 'HI', 'HI', 'HI', 'HI', 'HI', 'HI', 'HI', 'HI', 'HI', 'HI', 'HI', 'HI', 'HI', 'HI', 'HI', 'HI', 'HI', 'HI', 'HI', 'HI', 'HI', 'HI', 'HI', 'HI', 'HI']\n",
      "[0.7277, 0.2633, 0.17487, 0.04145, 0.22011, 0.40308, 0.26412, 0.1152, 0.40871, 0.32906, 0.22063, 0.18067, 0.18138, 0.14261, 0.46139, 0.03554, 0.24294, 0.66463, 0.25281, 0.04432, 0.27884, 0.04119, 0.17067, 0.29307, 0.09876, 0.17621, 0.43214, 0.26378, 0.14751, 0.27319, 0.17947, 0.35598, 0.00361, 0.36794, 0.29058, 0.00668, 0.16589, 0.03859, 0.41027, 0.42938, 0.35225, 0.20026, 0.74627, 0.28019, 0.29016, 0.25215, 0.21968, 0.38571, 0.14915, 0.29402, 0.19132, 0.03132, 0.35972, 0.03604, 0.39994]\n"
     ]
    }
   ],
   "source": [
    "H_z = []\n",
    "Element = []\n",
    "\n",
    "for sys in systems[1:]:\n",
    "    sys = sys.replace('z', '')\n",
    "    Element.append(letters(sys))\n",
    "    sys = sys.replace('_HI','')\n",
    "    z_shift = float(sys)\n",
    "    H_z.append(z_shift)\n",
    "\n",
    "print Element\n",
    "print H_z"
   ]
  },
  {
   "cell_type": "code",
   "execution_count": null,
   "metadata": {
    "collapsed": true
   },
   "outputs": [],
   "source": []
  },
  {
   "cell_type": "code",
   "execution_count": 29,
   "metadata": {
    "collapsed": false,
    "scrolled": false
   },
   "outputs": [],
   "source": [
    "#Sort components by system and visualize\n",
    "\n",
    "#Note: Systems that are close together (<~0.010) may overlap components in the current build.\n",
    "\n",
    "Sorted_sys = {}\n",
    "col_den = []\n",
    "for system in H_z:\n",
    "    sys_components=[]\n",
    "    sys_reliabilities=[]\n",
    "    sys_comments=[]\n",
    "    sys_n=[]\n",
    "    sys_b=[]\n",
    "    element = []\n",
    "    z_shift = []\n",
    "    column = []\n",
    "    H_systems = {}\n",
    "    sys_dict={}\n",
    "    count = 0\n",
    "    total_cz = []\n",
    "    for component in components:\n",
    "        #print component\n",
    "        if component[1]=='-':\n",
    "            c_z=component[2:9]\n",
    "        else:\n",
    "            c_z=component[1:8]\n",
    "        total_cz.append(float(c_z))\n",
    "        cmp_info = component.split(';')\n",
    "        column.append(float(cmp_info[3]))\n",
    "        \n",
    "        if abs(float(c_z)-system)<=0.00167: ## 500 km/s offset. \n",
    "            cmp_info=component.split(';')\n",
    "            element.append(letters(cmp_info[0][1:]))\n",
    "            z_shift.append(float(cmp_info[0][1:7]))                \n",
    "            sys_components.append(cmp_info[0])\n",
    "            sys_reliabilities.append(cmp_info[1])\n",
    "            sys_comments.append(cmp_info[2])\n",
    "            sys_n.append(cmp_info[3])\n",
    "            sys_b.append(cmp_info[4])\n",
    "            sys_dict={'Component':sys_components,'Reliability':sys_reliabilities,'Comment': sys_comments, 'Column Density (N)': sys_n, 'Doppler Profile (b)':sys_b}\n",
    "        #if ele == \"HI\":\n",
    "         #   H_systems[z_shift] = sys_n\n",
    "            #print H_systems    \n",
    "    #print \"===================================================\"\n",
    "    #print \"System: \"+system\n",
    "    #print \"===================================================\"\n",
    "    #df = pd.DataFrame(sys_dict,columns = ['Component','Column Density (N)','Doppler Profile (b)', 'Reliability', 'Comment'])\n",
    "    #display(df)\n",
    "            "
   ]
  },
  {
   "cell_type": "code",
   "execution_count": 8,
   "metadata": {
    "collapsed": false
   },
   "outputs": [
    {
     "name": "stdout",
     "output_type": "stream",
     "text": [
      "{'Comment': ['OIV', 'Lyman series'], 'Doppler Profile (b)': ['18.2', '19.3'], 'Reliability': ['a', 'a'], 'Component': ['z0.74624_OIV', 'z0.74627_HI'], 'Column Density (N)': ['14.04', '15.44']}\n"
     ]
    }
   ],
   "source": [
    "print sys_dict"
   ]
  },
  {
   "cell_type": "code",
   "execution_count": 13,
   "metadata": {
    "collapsed": false
   },
   "outputs": [
    {
     "data": {
      "text/plain": [
       "'z = [0.26412,0.11520,0.21968]\\ngalaxy[(154.091787, 17.112158),(154.094096, 47.1165247)\\n        (154.099184, 47.101724), ()]'"
      ]
     },
     "execution_count": 13,
     "metadata": {},
     "output_type": "execute_result"
    }
   ],
   "source": [
    "\"\"\"\n",
    "Major Systems: z = [0.00668, 0.11520, 0.16586, 0.24294, 0.25215, \n",
    "0.25281, 0.26330, 0.26378, 0.26412, 0.29307, 0.38571, 0.43214, \n",
    "0.66463, 0.72770, 0.74627]\n",
    "\n",
    "z = [0.271857, 0.116515, 0.215892, 0.083528, 0.236281, 0.102918,\n",
    "    0.149886, 0.15304, 0.177254, 0.160121, 0.089705, 0.051373,\n",
    "    0.128096]\n",
    "\n",
    "galaxy[(154.091787, 17.112158),(154.094096, 47.1165247)\n",
    "        (154.099184, 47.101724), (154.087127, 47.105872), \n",
    "        (154.119066, 47.113131), (154.091440, 47.094367)\n",
    "        (154.07192, 47.140234 Spectrum), (154.110013, 47.147945 Spectrum)\n",
    "        (154.020562, 47.146454 Spectrum) (154.029008, 47.136826 Spectrum)\n",
    "        (154.110217, 47.06976 Spectrum), (153.790990, 46.99868 Spectrum)\n",
    "        (154.224976, 46.991421 Spectrum)]\n",
    "        \n",
    "        \n",
    "        ra=154.38140626, dec=46.98530098\n",
    "        nnAvgZ\t0.046061\n",
    "        \n",
    "        ra=153.94045797, dec=47.33027694\n",
    "        nnAvgZ\t0.079424\n",
    "        \n",
    "        \"\"\""
   ]
  },
  {
   "cell_type": "code",
   "execution_count": null,
   "metadata": {
    "collapsed": true
   },
   "outputs": [],
   "source": []
  },
  {
   "cell_type": "code",
   "execution_count": null,
   "metadata": {
    "collapsed": true
   },
   "outputs": [],
   "source": []
  }
 ],
 "metadata": {
  "kernelspec": {
   "display_name": "Python 2",
   "language": "python",
   "name": "python2"
  },
  "language_info": {
   "codemirror_mode": {
    "name": "ipython",
    "version": 2
   },
   "file_extension": ".py",
   "mimetype": "text/x-python",
   "name": "python",
   "nbconvert_exporter": "python",
   "pygments_lexer": "ipython2",
   "version": "2.7.12"
  }
 },
 "nbformat": 4,
 "nbformat_minor": 0
}
